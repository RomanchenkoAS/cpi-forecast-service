{
 "cells": [
  {
   "cell_type": "code",
   "source": [
    "import pickle\n",
    "import warnings\n",
    "import gc\n",
    "\n",
    "import matplotlib.pyplot as plt\n",
    "import mplcursors\n",
    "import pandas as pd\n",
    "from sklearn.metrics import mean_absolute_error\n",
    "from statsmodels.tsa.holtwinters import ExponentialSmoothing\n",
    "\n",
    "warnings.filterwarnings(\"ignore\", category=UserWarning, module='statsmodels')"
   ],
   "metadata": {
    "collapsed": false,
    "ExecuteTime": {
     "end_time": "2024-07-09T08:35:35.562323Z",
     "start_time": "2024-07-09T08:35:35.559240Z"
    }
   },
   "id": "66a51607bb200e09",
   "outputs": [],
   "execution_count": 31
  },
  {
   "cell_type": "markdown",
   "source": [
    "# Load the data"
   ],
   "metadata": {
    "collapsed": false
   },
   "id": "9a0b1d6df4b6f518"
  },
  {
   "cell_type": "code",
   "source": [
    "import os\n",
    "from config import DATA_DIR, MODELS_DIR\n",
    "\n",
    "data = pd.read_csv(os.path.join(DATA_DIR, \"train_data.csv\"))\n",
    "# data = pd.read_csv(os.path.join(DATA_DIR, \"train_data_cleaned.csv\"))"
   ],
   "metadata": {
    "collapsed": false,
    "ExecuteTime": {
     "end_time": "2024-07-09T08:35:35.616842Z",
     "start_time": "2024-07-09T08:35:35.606223Z"
    }
   },
   "id": "3fcf25697be95ad",
   "outputs": [],
   "execution_count": 32
  },
  {
   "cell_type": "markdown",
   "source": [
    "# Explore the data"
   ],
   "metadata": {
    "collapsed": false
   },
   "id": "8012289749b00d38"
  },
  {
   "cell_type": "code",
   "source": [
    "data.head()"
   ],
   "metadata": {
    "collapsed": false,
    "ExecuteTime": {
     "end_time": "2024-07-09T08:35:35.628056Z",
     "start_time": "2024-07-09T08:35:35.618657Z"
    }
   },
   "id": "ada83a88c1653899",
   "outputs": [
    {
     "name": "stdout",
     "output_type": "stream",
     "text": [
      "                            Наименование 2022-01-10 2022-01-14 2022-01-21  \\\n",
      "0                   Аллохол, 50 таблеток      99.83     100.21     100.09   \n",
      "1                             Бананы, кг     104.55     101.13     101.32   \n",
      "2  Баранина (кроме бескостного мяса), кг     100.25     100.04     100.42   \n",
      "3                   Бензин автомобильный     100.52     100.06     100.14   \n",
      "4    Бензин автомобильный марки АИ-92, л     100.51     100.06     100.11   \n",
      "\n",
      "  2022-01-28 2022-02-04 2022-02-11 2022-02-18 2022-02-25 2022-03-04  ...  \\\n",
      "0      99.79      99.46      99.95      99.96     100.66     102.67  ...   \n",
      "1     101.76     101.81     102.35      102.2      102.8      107.2  ...   \n",
      "2     100.32      99.93      100.2     100.36     100.22     100.22  ...   \n",
      "3     100.18     100.02     100.04     100.06        100     100.04  ...   \n",
      "4     100.17      99.92     100.04     100.06      99.98        100  ...   \n",
      "\n",
      "  2024-05-02 2024-05-06 2024-05-13 2024-05-20 2024-05-27 2024-06-03  \\\n",
      "0     100.36     100.11     100.27     100.54     100.21     100.80   \n",
      "1     100.16      99.93     100.20     100.64     100.51      99.45   \n",
      "2     104.90     100.25     100.21     100.59     100.07     100.57   \n",
      "3     100.11     100.03     100.07     100.12     100.11     100.26   \n",
      "4     100.08     100.00     100.04     100.10     100.10     100.27   \n",
      "\n",
      "  2024-06-10 2024-06-17 2024-06-24 2024-07-01  \n",
      "0     100.36     100.30      99.80      99.21  \n",
      "1      99.63      99.31      99.30      99.74  \n",
      "2      99.77     100.26     100.28     100.14  \n",
      "3     100.22     100.16     100.41     100.52  \n",
      "4     100.22     100.17     100.46     100.56  \n",
      "\n",
      "[5 rows x 129 columns]\n"
     ]
    }
   ],
   "execution_count": 33
  },
  {
   "cell_type": "code",
   "source": [
    "data.info()"
   ],
   "metadata": {
    "collapsed": false,
    "ExecuteTime": {
     "end_time": "2024-07-09T08:35:35.644630Z",
     "start_time": "2024-07-09T08:35:35.629222Z"
    }
   },
   "id": "b1cffaadfa1aedfd",
   "outputs": [
    {
     "name": "stdout",
     "output_type": "stream",
     "text": [
      "<class 'pandas.core.frame.DataFrame'>\n",
      "RangeIndex: 115 entries, 0 to 114\n",
      "Columns: 129 entries, Наименование to 2024-07-01\n",
      "dtypes: float64(77), object(52)\n",
      "memory usage: 116.0+ KB\n",
      "None\n"
     ]
    }
   ],
   "execution_count": 34
  },
  {
   "cell_type": "code",
   "source": [
    "data.describe()"
   ],
   "metadata": {
    "collapsed": false,
    "ExecuteTime": {
     "end_time": "2024-07-09T08:35:35.759153Z",
     "start_time": "2024-07-09T08:35:35.646007Z"
    }
   },
   "id": "c1c8c791cd040d21",
   "outputs": [
    {
     "name": "stdout",
     "output_type": "stream",
     "text": [
      "       2023-01-09  2023-01-16  2023-01-23  2023-01-30  2023-02-06  2023-02-13  \\\n",
      "count  110.000000  110.000000  110.000000  110.000000  110.000000  110.000000   \n",
      "mean   100.674364  100.274545  100.266545  100.329364  100.454273  100.317636   \n",
      "std      2.331290    1.172866    0.955569    1.248879    1.738870    1.401263   \n",
      "min     91.470000   93.660000   99.000000   98.650000   98.990000   98.470000   \n",
      "25%     99.972500   99.952500   99.930000  100.000000   99.970000   99.940000   \n",
      "50%    100.095000  100.060000  100.020000  100.060000  100.130000  100.020000   \n",
      "75%    100.515000  100.320000  100.227500  100.177500  100.310000  100.207500   \n",
      "max    113.010000  105.410000  106.320000  107.840000  112.710000  110.110000   \n",
      "\n",
      "       2023-02-20  2023-02-27  2023-03-06  2023-03-13  ...  2024-05-02  \\\n",
      "count  110.000000  110.000000  110.000000  110.000000  ...  110.000000   \n",
      "mean   100.129091   99.993545  100.020000  100.042909  ...  100.159818   \n",
      "std      1.097047    0.988824    1.549881    1.291576  ...    1.380779   \n",
      "min     97.880000   92.430000   85.780000   90.030000  ...   91.660000   \n",
      "25%     99.782500   99.920000   99.975000   99.865000  ...  100.000000   \n",
      "50%    100.000000  100.000000  100.070000  100.010000  ...  100.110000   \n",
      "75%    100.170000  100.137500  100.315000  100.187500  ...  100.277500   \n",
      "max    106.920000  103.430000  105.760000  106.830000  ...  106.320000   \n",
      "\n",
      "       2024-05-06  2024-05-13  2024-05-20  2024-05-27  2024-06-03  2024-06-10  \\\n",
      "count  110.000000  110.000000  110.000000  110.000000  110.000000  110.000000   \n",
      "mean   100.200545  100.278909  100.315455  100.231727  100.247818  100.125545   \n",
      "std      0.993223    1.126178    1.789297    1.697318    1.390643    1.151771   \n",
      "min     95.230000   94.340000   89.590000   91.880000   93.030000   96.130000   \n",
      "25%     99.990000  100.000000  100.002500  100.000000  100.000000   99.915000   \n",
      "50%    100.050000  100.100000  100.120000  100.110000  100.125000  100.060000   \n",
      "75%    100.170000  100.277500  100.375000  100.310000  100.355000  100.250000   \n",
      "max    106.620000  104.440000  107.890000  109.920000  106.860000  108.880000   \n",
      "\n",
      "       2024-06-17  2024-06-24  2024-07-01  \n",
      "count  110.000000  110.000000  110.000000  \n",
      "mean   100.194818  100.249273  100.759000  \n",
      "std      1.031961    0.940847    2.329196  \n",
      "min     96.350000   97.350000   96.690000  \n",
      "25%     99.965000  100.000000  100.000000  \n",
      "50%    100.060000  100.135000  100.110000  \n",
      "75%    100.245000  100.320000  100.347500  \n",
      "max    107.890000  107.640000  111.240000  \n",
      "\n",
      "[8 rows x 77 columns]\n"
     ]
    }
   ],
   "execution_count": 35
  },
  {
   "cell_type": "markdown",
   "source": [
    "# Clean and transform the data"
   ],
   "metadata": {
    "collapsed": false
   },
   "id": "a455674b994e4b28"
  },
  {
   "metadata": {},
   "cell_type": "code",
   "outputs": [],
   "execution_count": null,
   "source": [
    "# Handle missing values if any\n",
    "data = data.dropna()\n",
    "\n",
    "# # Extract product names and dates\n",
    "# product_names = data.iloc[:, 0]\n",
    "# price_data = data.iloc[:, 1:]\n",
    "\n",
    "# Convert the price data to a long format\n",
    "price_data_long = pd.melt(data, id_vars=['Наименование'], var_name='Date', value_name='Price')\n",
    "\n",
    "# Rename columns for clarity\n",
    "price_data_long.columns = ['Product', 'Date', 'Price']\n",
    "\n",
    "# Convert Date column to datetime format\n",
    "price_data_long['Date'] = pd.to_datetime(price_data_long['Date'], format='%Y-%m-%d')\n",
    "\n",
    "# Convert Price column to numeric, forcing errors to NaN\n",
    "price_data_long['Price'] = pd.to_numeric(price_data_long['Price'], errors='coerce')\n",
    "\n",
    "# Drop rows with NaN values in Price column\n",
    "price_data_long = price_data_long.dropna(subset=['Price'])\n",
    "\n",
    "print(price_data_long.head())\n",
    "print(price_data_long.tail())\n",
    "\n",
    "# Saving to file\n",
    "filename = os.path.join(DATA_DIR, \"price_data_long.csv\")\n",
    "price_data_long.to_csv(filename, index=False)"
   ],
   "id": "81ae41f69839f1d9"
  },
  {
   "metadata": {},
   "cell_type": "markdown",
   "source": [
    "# Preliminary analysis"
   ],
   "id": "820d66b7689378ac"
  },
  {
   "metadata": {},
   "cell_type": "code",
   "outputs": [],
   "execution_count": null,
   "source": [
    "# Plot price trends for each product\n",
    "for product in price_data_long['Product'].unique()[:3]:\n",
    "    product_data = price_data_long[price_data_long['Product'] == product]\n",
    "    plt.figure(figsize=(15, 10))\n",
    "    plt.plot(product_data['Date'], product_data['Price'])\n",
    "    plt.title(f'Price Trend for {product}')\n",
    "    plt.xlabel('Date')\n",
    "    plt.ylabel('Price')\n",
    "    plt.show()"
   ],
   "id": "1e19f6f094b02fd6"
  },
  {
   "metadata": {},
   "cell_type": "markdown",
   "source": [
    "# Train-test split"
   ],
   "id": "7b799c38bbea3233"
  },
  {
   "metadata": {},
   "cell_type": "code",
   "outputs": [],
   "execution_count": null,
   "source": [
    "# Split the data into training and testing sets\n",
    "train_data = price_data_long[price_data_long['Date'] <= '2023-11-09']\n",
    "test_data = price_data_long[price_data_long['Date'] > '2023-11-09']\n",
    "\n",
    "# train_data = price_data_long[price_data_long['Date'] < '2022-01-21']\n",
    "# test_data = price_data_long[price_data_long['Date'] >= '2022-01-21']"
   ],
   "id": "1f555f2b60d8a0b7"
  },
  {
   "metadata": {},
   "cell_type": "code",
   "outputs": [],
   "execution_count": null,
   "source": [
    "print(\"Train data:\")\n",
    "print(train_data.head())\n",
    "print(train_data.tail())\n",
    "\n",
    "# filename = os.path.join(DATA_DIR, \"train.csv\")\n",
    "# train_data.to_csv(filename)"
   ],
   "id": "aba2b3f1957bff3c"
  },
  {
   "metadata": {},
   "cell_type": "markdown",
   "source": [],
   "id": "311d64c4016eda2f"
  },
  {
   "metadata": {},
   "cell_type": "code",
   "outputs": [],
   "execution_count": null,
   "source": [
    "print(\"Test data:\")\n",
    "print(test_data.head())\n",
    "print(test_data.tail())\n",
    "\n",
    "# filename = os.path.join(DATA_DIR, \"test.csv\")\n",
    "# test_data.to_csv(filename)"
   ],
   "id": "a02922ad884b76be"
  },
  {
   "metadata": {},
   "cell_type": "markdown",
   "source": [
    "# Get data to build model on and forecast for the Next 6 Months"
   ],
   "id": "bc60cbfc30e6e229"
  },
  {
   "metadata": {},
   "cell_type": "code",
   "outputs": [],
   "execution_count": null,
   "source": [
    "# products = train_data[\"Product\"]\n",
    "# product = products[2]\n",
    "# \n",
    "# \n",
    "# def make_forecast(product_name: str):\n",
    "#     product_train_data = train_data[train_data['Product'] == product_name]\n",
    "#     product_test_data = test_data[test_data['Product'] == product_name]\n",
    "# \n",
    "#     # Sort the data by date\n",
    "#     product_train_data = product_train_data.sort_values(by='Date')\n",
    "#     product_test_data = product_test_data.sort_values(by='Date')\n",
    "# \n",
    "#     print(f\"Plotting for {product_name}\")\n",
    "# \n",
    "#     # Combine train and test data for plotting\n",
    "#     combined_data = pd.concat([product_train_data, product_test_data]).sort_values(by='Date')\n",
    "# \n",
    "#     # Build the model\n",
    "#     model = ExponentialSmoothing(combined_data['Price'], trend='add', seasonal='add', seasonal_periods=12)\n",
    "#     model_fit = model.fit()\n",
    "# \n",
    "#     # Save the model to a file\n",
    "#     model_filename = f\"{product_name.replace(' ', '_')}_model.pkl\"\n",
    "#     model_path = os.path.join(DATA_DIR, \"trained_models\", model_filename)\n",
    "#     with open(model_filename, 'wb') as f:\n",
    "#         pickle.dump(model_fit, f)\n",
    "# \n",
    "#     # Forecast for the next 28 weeks\n",
    "#     forecast_horizon = 28\n",
    "#     forecast_dates = pd.date_range(start=combined_data['Date'].max() + pd.Timedelta(days=7), periods=forecast_horizon,\n",
    "#                                    freq='W')\n",
    "#     forecast = model_fit.forecast(steps=forecast_horizon)\n",
    "# \n",
    "#     # Calculate evaluation metrics\n",
    "#     actual = combined_data[\"Price\"]\n",
    "#     in_sample_forecast = model_fit.fittedvalues\n",
    "#     mae = mean_absolute_error(actual, in_sample_forecast)\n",
    "#     print(f\"In-sample Mean Absolute Error: {mae}\")\n",
    "# \n",
    "#     # Percentage MAE\n",
    "#     percentage_mae = mae / actual.mean() * 100\n",
    "#     print(f\"In-sample Percentage Mean Absolute Error: {percentage_mae:.2f}%\")\n",
    "# \n",
    "#     # Plot the data and forecast\n",
    "#     plt.figure(figsize=(14, 7))\n",
    "# \n",
    "#     # Plot historical data\n",
    "#     plt.plot(combined_data['Date'], combined_data['Price'], label='Historical Data', marker='o')\n",
    "# \n",
    "#     # Plot in-sample forecast\n",
    "#     plt.plot(combined_data['Date'], in_sample_forecast, label='In-sample Forecast', linestyle='--')\n",
    "# \n",
    "#     # Plot out-of-sample forecast\n",
    "#     plt.plot(forecast_dates, forecast, label='Next 28 Weeks Forecast', linestyle='--', marker='o')\n",
    "# \n",
    "#     plt.legend()\n",
    "#     plt.title(f'Historical Data and Forecast for {product_name}')\n",
    "#     plt.xlabel('Date')\n",
    "#     plt.ylabel('Price')\n",
    "#     plt.grid(True)\n",
    "# \n",
    "#     # Add more details and a grid to the plot\n",
    "#     plt.xticks(rotation=45)\n",
    "#     plt.tight_layout()\n",
    "# \n",
    "#     # Add zooming capability\n",
    "#     mplcursors.cursor(hover=True)\n",
    "# \n",
    "#     plt.show()\n",
    "# \n",
    "# \n",
    "# make_forecast(product)"
   ],
   "id": "2f7c223d79fca477"
  },
  {
   "metadata": {},
   "cell_type": "code",
   "outputs": [],
   "execution_count": null,
   "source": [
    "from services.tools import slugify_cyrillic_word\n",
    "\n",
    "\n",
    "def make_forecast(product_name: str, use_train_test_split=True):\n",
    "    product_train_data = train_data[train_data['Product'] == product_name]\n",
    "    product_test_data = test_data[test_data['Product'] == product_name]\n",
    "\n",
    "    # Sort the data by date\n",
    "    product_train_data = product_train_data.sort_values(by='Date')\n",
    "    product_test_data = product_test_data.sort_values(by='Date')\n",
    "\n",
    "    print(f\"Plotting for {product_name}\")\n",
    "\n",
    "    if use_train_test_split:\n",
    "        # Use only training data for model fitting\n",
    "        model = ExponentialSmoothing(product_train_data['Price'], trend='add', seasonal='add', seasonal_periods=12)\n",
    "        model_fit = model.fit()\n",
    "\n",
    "        # In-sample forecast (on training data)\n",
    "        in_sample_forecast = model_fit.fittedvalues\n",
    "\n",
    "        # Out-of-sample forecast (on test data)\n",
    "        out_of_sample_forecast = model_fit.forecast(steps=len(product_test_data))\n",
    "\n",
    "        # Calculate evaluation metrics\n",
    "        train_mae = mean_absolute_error(product_train_data['Price'], in_sample_forecast)\n",
    "        test_mae = mean_absolute_error(product_test_data['Price'], out_of_sample_forecast)\n",
    "\n",
    "        print(f\"Train MAE: {train_mae}\")\n",
    "        print(f\"Test MAE: {test_mae}\")\n",
    "\n",
    "        # Plot\n",
    "        plt.figure(figsize=(14, 7))\n",
    "        plt.plot(product_train_data['Date'], product_train_data['Price'], label='Training Data', marker='o')\n",
    "        plt.plot(product_test_data['Date'], product_test_data['Price'], label='Test Data', marker='o')\n",
    "        plt.plot(product_train_data['Date'], in_sample_forecast, label='In-sample Forecast', linestyle='--')\n",
    "        plt.plot(product_test_data['Date'], out_of_sample_forecast, label='Out-of-sample Forecast', linestyle='--')\n",
    "    else:\n",
    "        # Use all data for model fitting\n",
    "        combined_data = pd.concat([product_train_data, product_test_data]).sort_values(by='Date')\n",
    "        model = ExponentialSmoothing(combined_data['Price'], trend='add', seasonal='add', seasonal_periods=12)\n",
    "        model_fit = model.fit()\n",
    "\n",
    "        # In-sample forecast\n",
    "        in_sample_forecast = model_fit.fittedvalues\n",
    "\n",
    "        # Calculate evaluation metrics\n",
    "        mae = mean_absolute_error(combined_data['Price'], in_sample_forecast)\n",
    "        print(f\"In-sample MAE: {mae}\")\n",
    "\n",
    "        # Plot\n",
    "        plt.figure(figsize=(14, 7))\n",
    "        plt.plot(combined_data['Date'], combined_data['Price'], label='Historical Data', marker='o')\n",
    "        plt.plot(combined_data['Date'], in_sample_forecast, label='In-sample Forecast', linestyle='--')\n",
    "\n",
    "    # Forecast for the next 28 weeks\n",
    "    forecast_horizon = 28\n",
    "    last_date = product_test_data['Date'].max() if use_train_test_split else combined_data['Date'].max()\n",
    "    forecast_dates = pd.date_range(start=last_date + pd.Timedelta(days=7), periods=forecast_horizon, freq='W')\n",
    "    forecast = model_fit.forecast(steps=forecast_horizon)\n",
    "\n",
    "    # Plot future forecast\n",
    "    plt.plot(forecast_dates, forecast, label='Next 28 Weeks Forecast', linestyle='--', marker='o')\n",
    "\n",
    "    plt.legend()\n",
    "    plt.title(f'Historical Data and Forecast for {product_name}')\n",
    "    plt.xlabel('Date')\n",
    "    plt.ylabel('Price')\n",
    "    plt.grid(True)\n",
    "    plt.xticks(rotation=45)\n",
    "    plt.tight_layout()\n",
    "    mplcursors.cursor(hover=True)\n",
    "    plt.show()\n",
    "\n",
    "    # Save the model\n",
    "    model_filename = f\"{slugify_cyrillic_word(product_name)}_model.pkl\"\n",
    "    model_path = os.path.join(MODELS_DIR, model_filename)\n",
    "    with open(model_path, 'wb') as f:\n",
    "        pickle.dump(model_fit, f)\n",
    "\n",
    "\n",
    "products = train_data[\"Product\"]\n",
    "\n"
   ],
   "id": "ccdd8ba0419eef89"
  },
  {
   "metadata": {},
   "cell_type": "markdown",
   "source": [
    "# Use train test split"
   ],
   "id": "1f23e637c68232ff"
  },
  {
   "metadata": {},
   "cell_type": "code",
   "outputs": [],
   "execution_count": null,
   "source": [
    "for product in products[:10]:\n",
    "    make_forecast(product, use_train_test_split=True)\n",
    "    gc.collect()"
   ],
   "id": "46ddba178bc0064d"
  },
  {
   "metadata": {},
   "cell_type": "markdown",
   "source": [
    "# NOT use train test split"
   ],
   "id": "8a69b9592afc14bc"
  },
  {
   "metadata": {},
   "cell_type": "code",
   "outputs": [],
   "execution_count": null,
   "source": [
    "for product in products[:10]:\n",
    "    make_forecast(product, use_train_test_split=False)\n",
    "    gc.collect()"
   ],
   "id": "8ce2b8f0af06049f"
  }
 ],
 "metadata": {
  "kernelspec": {
   "display_name": "Python 3",
   "language": "python",
   "name": "python3"
  },
  "language_info": {
   "codemirror_mode": {
    "name": "ipython",
    "version": 2
   },
   "file_extension": ".py",
   "mimetype": "text/x-python",
   "name": "python",
   "nbconvert_exporter": "python",
   "pygments_lexer": "ipython2",
   "version": "2.7.6"
  }
 },
 "nbformat": 4,
 "nbformat_minor": 5
}
